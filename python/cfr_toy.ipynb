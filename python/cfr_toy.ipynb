{
 "cells": [
  {
   "cell_type": "code",
   "execution_count": 1,
   "metadata": {},
   "outputs": [],
   "source": [
    "def CFR(action_history, reach_probs, player_cards): \n",
    "    if isTerminal(action_history): #是不是到了叶子节点\n",
    "        current_player = len(action_history) % 2 \n",
    "        return getUtility(action_history, player_cards, current_player)\n",
    "\n",
    "    counterfactual_value_h = 0.0\n",
    "    counterfactual_value_h_a = [0.0, 0.0]\n",
    "    current_player = len(action_history) % 2 #根据当前action history 计算infomation set\n",
    "    info_set = str(player_cards[current_player])\n",
    "    for i in range(len(action_history)):\n",
    "        info_set += str(action_history[i])\n",
    "        \n",
    "    \n",
    "    for i in range(2): #两种可能的行动 pass 0; bet 1;\n",
    "        new_action_history = action_history\n",
    "        new_action_history.append(i)\n",
    "        new_reach_probs = reach_probs\n",
    "        new_reach_probs[current_player] = new_reach_probs[current_player] * cur_strategy[info_set + str(i)] \n",
    "        counterfactual_value_h_a[i] = CFR(new_action_history,new_reach_probs, player_cards)\n",
    "        counterfactual_value_h += cur_strategy[info_set + str(i)] * counterfactual_value_h_a[i]\n",
    " \n",
    "    regretSum = 0.0 \n",
    "    for i in range(2):\n",
    "        regret[info_set + str(i)] += reach_probs[1-current_player] * (counterfactual_value_h_a[i] - counterfactual_value_h)\n",
    "        AccStrategy[info_set + str(i)] += reach_probs[current_player] * cur_strategy[info_set+str(i)]\n",
    "        if regret[info_set + str(i)] > 0:\n",
    "            regretSum += regret[info_set + str(i)]\n",
    "            \n",
    "    for i in range(2):\n",
    "        if regretSum > 0:\n",
    "            cur_strategy[info_set + str(i)] =  max(0, regret[info_set + str(i)]) / regretSum\n",
    "        else:\n",
    "            cur_strategy[info_set + str(i)] = 0.5\n",
    "        strategySum[info_set + str(i)] += cur_strategy[info_set + str(i)]\n",
    "    \n",
    "    return counterfactual_value_h"
   ]
  },
  {
   "cell_type": "code",
   "execution_count": null,
   "metadata": {},
   "outputs": [],
   "source": []
  }
 ],
 "metadata": {
  "kernelspec": {
   "display_name": "Python 3",
   "language": "python",
   "name": "python3"
  },
  "language_info": {
   "codemirror_mode": {
    "name": "ipython",
    "version": 3
   },
   "file_extension": ".py",
   "mimetype": "text/x-python",
   "name": "python",
   "nbconvert_exporter": "python",
   "pygments_lexer": "ipython3",
   "version": "3.6.5"
  }
 },
 "nbformat": 4,
 "nbformat_minor": 2
}
